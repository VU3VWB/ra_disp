{
 "cells": [
  {
   "cell_type": "code",
   "execution_count": 1,
   "metadata": {},
   "outputs": [
    {
     "ename": "LibUSBError",
     "evalue": "<LIBUSB_ERROR_IO (-1): Input/output error> \"Could not open SDR (device index = 0)\"",
     "output_type": "error",
     "traceback": [
      "\u001b[0;31m---------------------------------------------------------------------------\u001b[0m",
      "\u001b[0;31mLibUSBError\u001b[0m                               Traceback (most recent call last)",
      "Cell \u001b[0;32mIn[1], line 5\u001b[0m\n\u001b[1;32m      2\u001b[0m \u001b[38;5;28;01mimport\u001b[39;00m \u001b[38;5;21;01mrtlsdr\u001b[39;00m \u001b[38;5;28;01mas\u001b[39;00m \u001b[38;5;21;01mrtlsdr\u001b[39;00m\n\u001b[1;32m      3\u001b[0m \u001b[38;5;28;01mimport\u001b[39;00m \u001b[38;5;21;01mnumpy\u001b[39;00m \u001b[38;5;28;01mas\u001b[39;00m \u001b[38;5;21;01mnp\u001b[39;00m\n\u001b[0;32m----> 5\u001b[0m sdr \u001b[38;5;241m=\u001b[39m \u001b[43mrtlsdr\u001b[49m\u001b[38;5;241;43m.\u001b[39;49m\u001b[43mRtlSdr\u001b[49m\u001b[43m(\u001b[49m\u001b[43m)\u001b[49m\n\u001b[1;32m      7\u001b[0m \u001b[38;5;66;03m# configure device\u001b[39;00m\n\u001b[1;32m      8\u001b[0m sdr\u001b[38;5;241m.\u001b[39msample_rate \u001b[38;5;241m=\u001b[39m \u001b[38;5;241m1.2e6\u001b[39m\n",
      "File \u001b[0;32m~/.local/lib/python3.11/site-packages/rtlsdr/rtlsdr.py:133\u001b[0m, in \u001b[0;36mBaseRtlSdr.__init__\u001b[0;34m(self, device_index, test_mode_enabled, serial_number)\u001b[0m\n\u001b[1;32m    132\u001b[0m \u001b[38;5;28;01mdef\u001b[39;00m \u001b[38;5;21m__init__\u001b[39m(\u001b[38;5;28mself\u001b[39m, device_index\u001b[38;5;241m=\u001b[39m\u001b[38;5;241m0\u001b[39m, test_mode_enabled\u001b[38;5;241m=\u001b[39m\u001b[38;5;28;01mFalse\u001b[39;00m, serial_number\u001b[38;5;241m=\u001b[39m\u001b[38;5;28;01mNone\u001b[39;00m):\n\u001b[0;32m--> 133\u001b[0m     \u001b[38;5;28;43mself\u001b[39;49m\u001b[38;5;241;43m.\u001b[39;49m\u001b[43mopen\u001b[49m\u001b[43m(\u001b[49m\u001b[43mdevice_index\u001b[49m\u001b[43m,\u001b[49m\u001b[43m \u001b[49m\u001b[43mtest_mode_enabled\u001b[49m\u001b[43m,\u001b[49m\u001b[43m \u001b[49m\u001b[43mserial_number\u001b[49m\u001b[43m)\u001b[49m\n",
      "File \u001b[0;32m~/.local/lib/python3.11/site-packages/rtlsdr/rtlsdr.py:171\u001b[0m, in \u001b[0;36mBaseRtlSdr.open\u001b[0;34m(self, device_index, test_mode_enabled, serial_number)\u001b[0m\n\u001b[1;32m    169\u001b[0m result \u001b[38;5;241m=\u001b[39m librtlsdr\u001b[38;5;241m.\u001b[39mrtlsdr_open(\u001b[38;5;28mself\u001b[39m\u001b[38;5;241m.\u001b[39mdev_p, device_index)\n\u001b[1;32m    170\u001b[0m \u001b[38;5;28;01mif\u001b[39;00m result \u001b[38;5;241m<\u001b[39m \u001b[38;5;241m0\u001b[39m:\n\u001b[0;32m--> 171\u001b[0m     \u001b[38;5;28;01mraise\u001b[39;00m LibUSBError(result, \u001b[38;5;124m'\u001b[39m\u001b[38;5;124mCould not open SDR (device index = \u001b[39m\u001b[38;5;132;01m%d\u001b[39;00m\u001b[38;5;124m)\u001b[39m\u001b[38;5;124m'\u001b[39m \u001b[38;5;241m%\u001b[39m (device_index))\n\u001b[1;32m    173\u001b[0m \u001b[38;5;66;03m# enable test mode if necessary\u001b[39;00m\n\u001b[1;32m    174\u001b[0m result \u001b[38;5;241m=\u001b[39m librtlsdr\u001b[38;5;241m.\u001b[39mrtlsdr_set_testmode(\u001b[38;5;28mself\u001b[39m\u001b[38;5;241m.\u001b[39mdev_p, \u001b[38;5;28mint\u001b[39m(test_mode_enabled))\n",
      "\u001b[0;31mLibUSBError\u001b[0m: <LIBUSB_ERROR_IO (-1): Input/output error> \"Could not open SDR (device index = 0)\""
     ]
    }
   ],
   "source": [
    "import matplotlib.pyplot as plt\n",
    "import rtlsdr as rtlsdr\n",
    "import numpy as np\n",
    "\n",
    "sdr = rtlsdr.RtlSdr()\n",
    "\n",
    "# configure device\n",
    "sdr.sample_rate = 1.2e6\n",
    "sdr.center_freq = 97.71e6\n",
    "sdr.gain = 40\n",
    "\n",
    "N_dat = 256\n",
    "vec_length = 4096*4\n",
    "\n",
    "inp_data = sdr.read_samples(N_dat*vec_length)\n",
    "sdr.close()"
   ]
  },
  {
   "cell_type": "code",
   "execution_count": null,
   "metadata": {},
   "outputs": [],
   "source": [
    "N_taps = 96\n",
    "\n",
    "sinc_sample_locations = np.arange(-np.pi*N_taps/2.0, np.pi*N_taps/2.0, np.pi/vec_length)\n",
    "sinc = np.sinc(sinc_sample_locations/np.pi)\n",
    "custom_window = sinc*np.hamming(N_taps*vec_length)\n",
    "\n",
    "pow_spec_fft = np.zeros(int(vec_length))\n",
    "pow_spec_pfb = np.zeros(int(vec_length))"
   ]
  },
  {
   "cell_type": "code",
   "execution_count": null,
   "metadata": {},
   "outputs": [],
   "source": [
    "for i in range(N_dat-N_taps):\n",
    "\n",
    "    sig_full = np.zeros(vec_length, dtype=np.complex64)\n",
    "    for tap in range(N_taps):\n",
    "        sig_full = sig_full + inp_data[(i+tap)*vec_length:(i+tap+1)*vec_length]*custom_window[tap*vec_length:(tap+1)*vec_length]\n",
    "\n",
    "    pow_spec_pfb = pow_spec_pfb + (np.abs(np.fft.fftshift(np.fft.fft(sig_full))))**2\n",
    "    pow_spec_fft = pow_spec_fft + (np.abs(np.fft.fftshift(np.fft.fft(inp_data[(i+0)*vec_length:(i+1)*vec_length]))))**2\n"
   ]
  },
  {
   "cell_type": "code",
   "execution_count": null,
   "metadata": {},
   "outputs": [],
   "source": [
    "plt.figure(figsize=(16,9))\n",
    "# plt.semilogy(pow_spec_pfb[2500:3000])\n",
    "# plt.semilogy(10*pow_spec_fft[2500:3000])\n",
    "\n",
    "plt.semilogy(pow_spec_pfb[12600:12800])\n",
    "plt.semilogy(pow_spec_fft[12600:12800])"
   ]
  }
 ],
 "metadata": {
  "kernelspec": {
   "display_name": "Python 3",
   "language": "python",
   "name": "python3"
  },
  "language_info": {
   "codemirror_mode": {
    "name": "ipython",
    "version": 3
   },
   "file_extension": ".py",
   "mimetype": "text/x-python",
   "name": "python",
   "nbconvert_exporter": "python",
   "pygments_lexer": "ipython3",
   "version": "3.11.1"
  }
 },
 "nbformat": 4,
 "nbformat_minor": 4
}
