{
 "cells": [
  {
   "cell_type": "code",
   "execution_count": 1,
   "metadata": {},
   "outputs": [
    {
     "name": "stdout",
     "output_type": "stream",
     "text": [
      "dict_keys(['HDR_VERSION', 'HDR_SIZE', 'BW', 'FREQ', 'TELESCOPE', 'RECEIVER', 'INSTRUMENT', 'SOURCE', 'MODE', 'NBIT', 'NPOL', 'NCHAN', 'NDIM', 'OBS_OFFSET', 'TSAMP', 'UTC_START', 'POPULATED', 'OBS_ID', 'SUBOBS_ID', 'COMMAND', 'NTIMESAMPLES', 'NINPUTS', 'NINPUTS_XGPU', 'METADATA_BEAMS', 'APPLY_PATH_WEIGHTS', 'APPLY_PATH_DELAYS', 'INT_TIME_MSEC', 'FSCRUNCH_FACTOR', 'TRANSFER_SIZE', 'PROJ_ID', 'EXPOSURE_SECS', 'COARSE_CHANNEL', 'CORR_COARSE_CHANNEL', 'SECS_PER_SUBOBS', 'UNIXTIME', 'UNIXTIME_MSEC', 'FINE_CHAN_WIDTH_HZ', 'NFINE_CHAN', 'BANDWIDTH_HZ', 'SAMPLE_RATE', 'MC_IP', 'MC_SRC_IP', 'FILE_SIZE', 'FILE_NUMBER'])\n"
     ]
    }
   ],
   "source": [
    "import numpy as np\n",
    "\n",
    "PATH = \"./\"\n",
    "vol_filename = \"sample_psr.dada\"\n",
    "\n",
    "f = open(PATH+vol_filename, \"rb\")\n",
    "header_text = f.read(4096)\n",
    "f.close()\n",
    "split_header = header_text.split()\n",
    "len_head = len(split_header)-1\n",
    "head_dict = {}\n",
    "for i in range(int(len_head/2)):\n",
    "    head_dict[str(split_header[i*2].decode('UTF-8'))] = str(split_header[i*2+1].decode('UTF-8'))\n",
    "\n",
    "print (head_dict.keys())"
   ]
  }
 ],
 "metadata": {
  "kernelspec": {
   "display_name": "Python 3",
   "language": "python",
   "name": "python3"
  },
  "language_info": {
   "codemirror_mode": {
    "name": "ipython",
    "version": 3
   },
   "file_extension": ".py",
   "mimetype": "text/x-python",
   "name": "python",
   "nbconvert_exporter": "python",
   "pygments_lexer": "ipython3",
   "version": "3.11.1"
  },
  "vscode": {
   "interpreter": {
    "hash": "31f2aee4e71d21fbe5cf8b01ff0e069b9275f58929596ceb00d14d90e3e16cd6"
   }
  }
 },
 "nbformat": 4,
 "nbformat_minor": 4
}
